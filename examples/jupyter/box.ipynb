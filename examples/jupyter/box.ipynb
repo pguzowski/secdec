{
 "cells": [
  {
   "attachments": {},
   "cell_type": "markdown",
   "id": "d85d894b",
   "metadata": {},
   "source": [
    "# ``Box``"
   ]
  },
  {
   "cell_type": "code",
   "execution_count": null,
   "id": "fea5cb12",
   "metadata": {},
   "outputs": [],
   "source": [
    "import sympy as sp\n",
    "import numpy as np\n",
    "import matplotlib.pyplot as plt\n",
    "import pySecDec as psd # Import pySecDec"
   ]
  },
  {
   "attachments": {},
   "cell_type": "markdown",
   "id": "63ece6fb",
   "metadata": {},
   "source": [
    "In this notebook, we experiment with computing a 1-loop box integral:"
   ]
  },
  {
   "attachments": {},
   "cell_type": "markdown",
   "id": "a28bfba5",
   "metadata": {},
   "source": [
    "$$\n",
    "I_4^{D=4-2\\epsilon}(0,0,0,0;s_{12},s_{23},m^2,m^2,m^2,m^2)\n",
    "$$"
   ]
  },
  {
   "attachments": {},
   "cell_type": "markdown",
   "id": "472aa5bd",
   "metadata": {},
   "source": [
    "### Generating the integral code\n",
    "\n",
    "First, we will compute the first, ``U``, and second, ``F``, Symmanzik polynomials:"
   ]
  },
  {
   "cell_type": "code",
   "execution_count": null,
   "id": "4275f9ae",
   "metadata": {},
   "outputs": [],
   "source": [
    "li = psd.LoopIntegralFromGraph(\n",
    "    internal_lines = [['m',[1,2]],['m',[2,3]],['m',[3,4]],['m',[4,1]]],\n",
    "    external_lines = [['p1',1],['p2',2],['p3',3],['p4',4]],\n",
    "    replacement_rules = [\n",
    "        ('p1*p1', 0),\n",
    "        ('p2*p2', 0),\n",
    "        ('p3*p3', 0),\n",
    "        ('p4*p4', 0),\n",
    "        ('p1*p2', 's12/2'),\n",
    "        ('p3*p4', 's12/2'),\n",
    "        ('p2*p3', 's23/2'),\n",
    "        ('p1*p4', 's23/2'),\n",
    "        ('p2*p4', '-s12/2-s23/2'),\n",
    "        ('p1*p3', '-s12/2-s23/2'),\n",
    "        ('m**2', 'msq')\n",
    "    ]\n",
    ")\n",
    "print('U:',li.exponentiated_U)\n",
    "print('F:',li.exponentiated_F)"
   ]
  },
  {
   "attachments": {},
   "cell_type": "markdown",
   "id": "64c78ea0",
   "metadata": {},
   "source": [
    "We now generate the c++ code for the box integral, using ``loop_package``:"
   ]
  },
  {
   "cell_type": "code",
   "execution_count": null,
   "id": "17998737",
   "metadata": {},
   "outputs": [],
   "source": [
    "! rm -rf box\n",
    "Mandelstam_symbols = ['s12','s23']\n",
    "mass_symbols = ['msq']\n",
    "psd.loop_package(\n",
    "    name = 'box',\n",
    "    loop_integral = li,\n",
    "    real_parameters = Mandelstam_symbols + mass_symbols,\n",
    "    requested_orders = [0],\n",
    "    decomposition_method = 'geometric'\n",
    ")"
   ]
  },
  {
   "attachments": {},
   "cell_type": "markdown",
   "id": "79d60479",
   "metadata": {},
   "source": [
    "Next, we build the `disteval` version of the integral code, ready for numerical integration:"
   ]
  },
  {
   "cell_type": "code",
   "execution_count": null,
   "id": "2e89b406",
   "metadata": {},
   "outputs": [],
   "source": [
    "! make disteval -C box > /dev/null 2>&1"
   ]
  },
  {
   "attachments": {},
   "cell_type": "markdown",
   "id": "f492bb0b",
   "metadata": {},
   "source": [
    "### Evaluating the integral and manipulating the result\n",
    "\n",
    "We can now load the pre-built integral code:"
   ]
  },
  {
   "cell_type": "code",
   "execution_count": null,
   "id": "c6d1761b",
   "metadata": {},
   "outputs": [],
   "source": [
    "box = psd.integral_interface.DistevalLibrary('box/disteval/box.json')"
   ]
  },
  {
   "attachments": {},
   "cell_type": "markdown",
   "id": "262c0dce",
   "metadata": {},
   "source": [
    "We begin by evaluating our integral at the point ``s12=4.1, s23=-2.2, msq=1``:"
   ]
  },
  {
   "cell_type": "code",
   "execution_count": null,
   "id": "bf9a0024",
   "metadata": {},
   "outputs": [],
   "source": [
    "result = box(parameters={'s12': 4.1, 's23': -2.2, 'msq': 1.}, format='json')\n",
    "print(result)"
   ]
  },
  {
   "attachments": {},
   "cell_type": "markdown",
   "id": "af98671f",
   "metadata": {},
   "source": [
    "We have requested that the library returns the result in `json` format, this provides us with a dictionary of the coefficients for each order of each regulator. \n",
    "We select the finite (`eps^0`) part of the box integral and print the result and its numerical uncertainty:"
   ]
  },
  {
   "cell_type": "code",
   "execution_count": null,
   "id": "f544243e",
   "metadata": {},
   "outputs": [],
   "source": [
    "finite_part = result['sums']['box'][(0,)]\n",
    "print('res:', finite_part[0]) # Result\n",
    "print('err:', finite_part[1]) # Numerical uncertainty "
   ]
  },
  {
   "attachments": {},
   "cell_type": "markdown",
   "id": "8323eef6",
   "metadata": {},
   "source": [
    "### Plotting the result for different values of the real_parameters\n",
    "\n",
    "We can also numerically compute our integral at several points, by repeatedly calling the integral code:"
   ]
  },
  {
   "cell_type": "code",
   "execution_count": null,
   "id": "71ec6415",
   "metadata": {},
   "outputs": [],
   "source": [
    "xx = []\n",
    "yy_re = []\n",
    "yy_im = []\n",
    "for ss in np.arange(0.01,10.01,1):\n",
    "    result = box(parameters={'s12': ss, 's23': -2.2, 'msq': 1}, format='json')\n",
    "    finite_part = result['sums']['box'][(0,)]\n",
    "    print(ss, finite_part)\n",
    "    xx.append(ss)\n",
    "    yy_re.append(finite_part[0].real)\n",
    "    yy_im.append(finite_part[0].imag)"
   ]
  },
  {
   "cell_type": "code",
   "execution_count": null,
   "id": "86cf2d80",
   "metadata": {},
   "outputs": [],
   "source": [
    "plt.plot(xx,yy_re,marker='o')\n",
    "plt.plot(xx,yy_im,marker='x')"
   ]
  }
 ],
 "metadata": {
  "kernelspec": {
   "display_name": "Python 3",
   "language": "python",
   "name": "python3"
  },
  "language_info": {
   "codemirror_mode": {
    "name": "ipython",
    "version": 3
   },
   "file_extension": ".py",
   "mimetype": "text/x-python",
   "name": "python",
   "nbconvert_exporter": "python",
   "pygments_lexer": "ipython3",
   "version": "3.9.10"
  },
  "vscode": {
   "interpreter": {
    "hash": "aee8b7b246df8f9039afb4144a1f6fd8d2ca17a180786b69acc140d282b71a49"
   }
  }
 },
 "nbformat": 4,
 "nbformat_minor": 5
}

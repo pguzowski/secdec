{
 "cells": [
  {
   "attachments": {},
   "cell_type": "markdown",
   "id": "d85d894b",
   "metadata": {},
   "source": [
    "# ``Easy``"
   ]
  },
  {
   "cell_type": "code",
   "execution_count": null,
   "id": "fea5cb12",
   "metadata": {},
   "outputs": [],
   "source": [
    "import sympy as sp\n",
    "import matplotlib.pyplot as plt\n",
    "import pySecDec as psd # Import pySecDec"
   ]
  },
  {
   "cell_type": "markdown",
   "id": "63ece6fb",
   "metadata": {},
   "source": [
    "In this notebook, we experiment with computing a simple dimensionally regulated integral:"
   ]
  },
  {
   "cell_type": "markdown",
   "id": "a28bfba5",
   "metadata": {},
   "source": [
    "$$\n",
    "  I[c] \\equiv \\int_0^1 \\mathrm{d}x \\int_0^1 \\mathrm{d} y\\ (c x+y)^{-2+\\epsilon}\n",
    "$$"
   ]
  },
  {
   "attachments": {},
   "cell_type": "markdown",
   "id": "472aa5bd",
   "metadata": {},
   "source": [
    "### Generating an integral library\n",
    "\n",
    "We will use the ``make_package`` function which generates a c++ package for evaluating the integral.\n",
    "\n",
    "First, we give our integral a name ``easy`` and we tell pySecDec the integration variables, any real parameters the integral depends on, the dimensional regulators, the order to which we want to know the result (as a series expansion in the regulators), and the input polynomial."
   ]
  },
  {
   "cell_type": "code",
   "execution_count": null,
   "id": "17998737",
   "metadata": {},
   "outputs": [],
   "source": [
    "! rm -rf easy\n",
    "package = psd.make_package(\n",
    "    name = 'easy',\n",
    "    integration_variables = ['x','y'],\n",
    "    real_parameters = ['c'],\n",
    "    regulators = ['eps'],\n",
    "    requested_orders = [0],\n",
    "    polynomials_to_decompose = ['(c*x+y)^(-2+eps)']\n",
    ")"
   ]
  },
  {
   "cell_type": "markdown",
   "id": "79d60479",
   "metadata": {},
   "source": [
    "Next, we build the integral library, ready for numerical integration."
   ]
  },
  {
   "cell_type": "code",
   "execution_count": null,
   "id": "2e89b406",
   "metadata": {},
   "outputs": [],
   "source": [
    "! make -C easy > /dev/null 2>&1"
   ]
  },
  {
   "cell_type": "markdown",
   "id": "f492bb0b",
   "metadata": {},
   "source": [
    "### Calling the integral library and manipulating the result\n",
    "\n",
    "We now have an integral library ``easy/easy_pylink.so`` which we can load into python and call to evaluate our integral."
   ]
  },
  {
   "cell_type": "code",
   "execution_count": null,
   "id": "c6d1761b",
   "metadata": {},
   "outputs": [],
   "source": [
    "easy = psd.integral_interface.IntegralLibrary('easy/easy_pylink.so')"
   ]
  },
  {
   "attachments": {},
   "cell_type": "markdown",
   "id": "262c0dce",
   "metadata": {},
   "source": [
    "The library will return: \n",
    "* the integral result without prefactors, \n",
    "* the prefactor\n",
    "* the integral result with prefactors. \n",
    "\n",
    "Usually, we only care about the result with the prefactor, so we will use only that part of the output. In this case the prefactor is also just ``1``.\n",
    "\n",
    "We begin by evaluating our integral at the point ``c=0.1``."
   ]
  },
  {
   "cell_type": "code",
   "execution_count": null,
   "id": "bf9a0024",
   "metadata": {},
   "outputs": [],
   "source": [
    "c=0.1\n",
    "str_integral_without_prefactor, str_prefactor, str_integral_with_prefactor = easy([c])\n",
    "print(str_integral_with_prefactor)"
   ]
  },
  {
   "cell_type": "markdown",
   "id": "af98671f",
   "metadata": {},
   "source": [
    "The result returned by our library is just a string encoding the full result, it depends on all regulators and also tells us the numerical uncertainy on the result. We have convenience functions for converting the output to a format compatible with various symbolic libraries. Here we will use the sympy output format."
   ]
  },
  {
   "cell_type": "code",
   "execution_count": null,
   "id": "f544243e",
   "metadata": {},
   "outputs": [],
   "source": [
    "result_sympy = psd.integral_interface.series_to_sympy(str_integral_with_prefactor)"
   ]
  },
  {
   "cell_type": "code",
   "execution_count": null,
   "id": "2d61c6a9",
   "metadata": {},
   "outputs": [],
   "source": [
    "print('res:', result_sympy[0]) # Result\n",
    "print('err:', result_sympy[1]) # Numerical uncertainty "
   ]
  },
  {
   "attachments": {},
   "cell_type": "markdown",
   "id": "ea9f524e",
   "metadata": {},
   "source": [
    "We can pick out the finite part of the result using sympy's ``Poly`` module:\n",
    "* First we strip the trailing ``+ O(eps)`` (Big-O notation) from the string.\n",
    "* Next, we convert the result to a sympy ``Poly``.\n",
    "* Finally we can ask for the last coefficient (i.e. the finite part if ``requested orders=0``)."
   ]
  },
  {
   "cell_type": "code",
   "execution_count": null,
   "id": "3eb2fae1",
   "metadata": {},
   "outputs": [],
   "source": [
    "if result_sympy[0].endswith('+ O(eps)'):\n",
    "    result_sympy_stripped = result_sympy[0][:-8]\n",
    "result_finite_part = sp.Poly(result_sympy_stripped).coeffs()[-1]\n",
    "print(result_finite_part)"
   ]
  },
  {
   "cell_type": "markdown",
   "id": "8323eef6",
   "metadata": {},
   "source": [
    "### Plotting the result for different values of the real_parameters\n",
    "\n",
    "We can also numerically compute our integral at several points, by repeatedly calling the library."
   ]
  },
  {
   "cell_type": "code",
   "execution_count": null,
   "id": "71ec6415",
   "metadata": {},
   "outputs": [],
   "source": [
    "xx = []\n",
    "yy = []\n",
    "for cc in np.arange(0.1,0.9,0.05):\n",
    "    _, _, result = easy([cc])\n",
    "    xx.append(cc)\n",
    "    yy.append(sp.Poly(psd.integral_interface.series_to_sympy(result)[0][:-8]).coeffs()[1])"
   ]
  },
  {
   "cell_type": "code",
   "execution_count": null,
   "id": "86cf2d80",
   "metadata": {},
   "outputs": [],
   "source": [
    "plt.plot(xx,yy,marker='o')"
   ]
  }
 ],
 "metadata": {
  "kernelspec": {
   "display_name": "Python 3",
   "language": "python",
   "name": "python3"
  },
  "language_info": {
   "codemirror_mode": {
    "name": "ipython",
    "version": 3
   },
   "file_extension": ".py",
   "mimetype": "text/x-python",
   "name": "python",
   "nbconvert_exporter": "python",
   "pygments_lexer": "ipython3",
   "version": "3.10.9"
  },
  "vscode": {
   "interpreter": {
    "hash": "aee8b7b246df8f9039afb4144a1f6fd8d2ca17a180786b69acc140d282b71a49"
   }
  }
 },
 "nbformat": 4,
 "nbformat_minor": 5
}
